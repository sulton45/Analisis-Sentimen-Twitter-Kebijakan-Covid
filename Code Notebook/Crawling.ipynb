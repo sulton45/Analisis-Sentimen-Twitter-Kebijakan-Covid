{
 "cells": [
  {
   "cell_type": "code",
   "execution_count": 5,
   "id": "aa3c509e",
   "metadata": {},
   "outputs": [
    {
     "name": "stdout",
     "output_type": "stream",
     "text": [
      "                        Date             User  \\\n",
      "0  2022-10-19 19:17:56+00:00         OnFucker   \n",
      "1  2022-10-19 19:17:12+00:00  govinramadhan11   \n",
      "2  2022-10-19 19:02:47+00:00       hueningkfi   \n",
      "3  2022-10-19 18:12:10+00:00          juyoien   \n",
      "4  2022-10-19 17:58:26+00:00    PenyihirSalju   \n",
      "..                       ...              ...   \n",
      "95 2022-10-19 10:29:49+00:00      Malissa8181   \n",
      "96 2022-10-19 10:29:49+00:00      Janell_2121   \n",
      "97 2022-10-19 10:29:48+00:00      Clariss2121   \n",
      "98 2022-10-19 09:59:18+00:00    __jeongyoonoh   \n",
      "99 2022-10-19 09:32:06+00:00           ssexyn   \n",
      "\n",
      "                                                Tweet  \n",
      "0   @Cattl3yya Nataru , imlek dan nyepi tdk ada PP...  \n",
      "1   @_ekokuntadhi Ingat jaman Covid PPKM lvl 3 di ...  \n",
      "2          PPKM, Pengen Pacaran (dengan) KiM chaewon.  \n",
      "3   @oounghoon Save itu ya, hyung. PPKM M-nya jadi...  \n",
      "4   @tanyakanrl Setahun yg lalu, terjebak ppkm dan...  \n",
      "..                                                ...  \n",
      "95  Masyarakat perlu mewaspada varian baru Covid-1...  \n",
      "96  Masyarakat perlu mewaspada varian baru Covid-1...  \n",
      "97  Masyarakat perlu mewaspada varian baru Covid-1...  \n",
      "98  @eightyeightbae @convomf Design nya udah cakep...  \n",
      "99  PPKM \\nplanga plongo kaya monyet https://t.co/...  \n",
      "\n",
      "[100 rows x 3 columns]\n"
     ]
    }
   ],
   "source": [
    "import tweepy\n",
    "import configparser\n",
    "import pandas as pd\n",
    "\n",
    "# baca config\n",
    "config = configparser.ConfigParser()\n",
    "config.read('config.ini')\n",
    "\n",
    "api_key = config['twitter']['api_key']\n",
    "api_key_secret = config['twitter']['api_key_secret']\n",
    "\n",
    "access_token = config['twitter']['access_token']\n",
    "access_token_secret = config['twitter']['access_token_secret']\n",
    "\n",
    "# autentikasi\n",
    "auth = tweepy.OAuthHandler(api_key, api_key_secret)\n",
    "auth.set_access_token(access_token, access_token_secret)\n",
    "\n",
    "api = tweepy.API(auth)\n",
    "\n",
    "# cari tweets\n",
    "keywords = 'PPKM'\n",
    "limit = 10000\n",
    "\n",
    "tweets = tweepy.Cursor(api.search_tweets, q=keywords,\n",
    "                       lang=\"id\", count=100, tweet_mode='extended').items(limit)\n",
    "\n",
    "# Buat Dataframe\n",
    "columns = ['Date', 'User', 'Tweet']\n",
    "data = []\n",
    "\n",
    "for tweet in tweets:\n",
    "    data.append([tweet.created_at, tweet.user.screen_name, tweet.full_text])\n",
    "\n",
    "df = pd.DataFrame(data, columns=columns)\n",
    "\n",
    "print(df)\n",
    "\n",
    "df.to_csv(\"Crawling.csv\")\n"
   ]
  },
  {
   "cell_type": "code",
   "execution_count": null,
   "id": "c195c909",
   "metadata": {},
   "outputs": [],
   "source": []
  }
 ],
 "metadata": {
  "kernelspec": {
   "display_name": "Python 3 (ipykernel)",
   "language": "python",
   "name": "python3"
  },
  "language_info": {
   "codemirror_mode": {
    "name": "ipython",
    "version": 3
   },
   "file_extension": ".py",
   "mimetype": "text/x-python",
   "name": "python",
   "nbconvert_exporter": "python",
   "pygments_lexer": "ipython3",
   "version": "3.9.12"
  }
 },
 "nbformat": 4,
 "nbformat_minor": 5
}
