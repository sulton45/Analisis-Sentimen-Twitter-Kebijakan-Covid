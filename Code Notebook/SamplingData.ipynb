{
 "cells": [
  {
   "cell_type": "code",
   "execution_count": 1,
   "id": "1139c9c4",
   "metadata": {},
   "outputs": [],
   "source": [
    "import os\n",
    "import numpy as np\n",
    "import pandas as pd\n",
    "\n",
    "from datetime import datetime"
   ]
  },
  {
   "cell_type": "code",
   "execution_count": 2,
   "id": "abb12684",
   "metadata": {},
   "outputs": [
    {
     "name": "stdout",
     "output_type": "stream",
     "text": [
      "<class 'pandas.core.frame.DataFrame'>\n",
      "RangeIndex: 10975 entries, 0 to 10974\n",
      "Data columns (total 11 columns):\n",
      " #   Column             Non-Null Count  Dtype \n",
      "---  ------             --------------  ----- \n",
      " 0   Unnamed: 0         10975 non-null  int64 \n",
      " 1   Date               10975 non-null  object\n",
      " 2   User               10975 non-null  object\n",
      " 3   Tweet              10975 non-null  object\n",
      " 4   Tweet Cleaning     10975 non-null  object\n",
      " 5   Tweet Tokenize     10975 non-null  object\n",
      " 6   Frekuensi Tweet    10975 non-null  object\n",
      " 7   Tweet Filtering    10975 non-null  object\n",
      " 8   Tweet Normalisasi  10975 non-null  object\n",
      " 9   Tweet Stemmed      10975 non-null  object\n",
      " 10  Tweet Bersih       10974 non-null  object\n",
      "dtypes: int64(1), object(10)\n",
      "memory usage: 943.3+ KB\n"
     ]
    }
   ],
   "source": [
    "# Import data\n",
    "# Concating data\n",
    "data = pd.read_csv(\"Text_Preprocessing.csv\")\n",
    "data.info()"
   ]
  },
  {
   "cell_type": "code",
   "execution_count": 3,
   "id": "1307a9d9",
   "metadata": {},
   "outputs": [
    {
     "name": "stdout",
     "output_type": "stream",
     "text": [
      "<class 'pandas.core.frame.DataFrame'>\n",
      "Int64Index: 10975 entries, 0 to 10974\n",
      "Data columns (total 11 columns):\n",
      " #   Column             Non-Null Count  Dtype \n",
      "---  ------             --------------  ----- \n",
      " 0   Unnamed: 0         10975 non-null  int64 \n",
      " 1   Date               10975 non-null  object\n",
      " 2   User               10975 non-null  object\n",
      " 3   Tweet              10975 non-null  object\n",
      " 4   Tweet Cleaning     10975 non-null  object\n",
      " 5   Tweet Tokenize     10975 non-null  object\n",
      " 6   Frekuensi Tweet    10975 non-null  object\n",
      " 7   Tweet Filtering    10975 non-null  object\n",
      " 8   Tweet Normalisasi  10975 non-null  object\n",
      " 9   Tweet Stemmed      10975 non-null  object\n",
      " 10  Tweet Bersih       10974 non-null  object\n",
      "dtypes: int64(1), object(10)\n",
      "memory usage: 1.0+ MB\n"
     ]
    }
   ],
   "source": [
    "data = data.drop_duplicates(\"Tweet Bersih\")\n",
    "data.info()"
   ]
  },
  {
   "cell_type": "code",
   "execution_count": 4,
   "id": "b05ac17e",
   "metadata": {},
   "outputs": [
    {
     "name": "stdout",
     "output_type": "stream",
     "text": [
      "<class 'pandas.core.frame.DataFrame'>\n",
      "Int64Index: 2000 entries, 1380 to 3756\n",
      "Data columns (total 11 columns):\n",
      " #   Column             Non-Null Count  Dtype \n",
      "---  ------             --------------  ----- \n",
      " 0   Unnamed: 0         2000 non-null   int64 \n",
      " 1   Date               2000 non-null   object\n",
      " 2   User               2000 non-null   object\n",
      " 3   Tweet              2000 non-null   object\n",
      " 4   Tweet Cleaning     2000 non-null   object\n",
      " 5   Tweet Tokenize     2000 non-null   object\n",
      " 6   Frekuensi Tweet    2000 non-null   object\n",
      " 7   Tweet Filtering    2000 non-null   object\n",
      " 8   Tweet Normalisasi  2000 non-null   object\n",
      " 9   Tweet Stemmed      2000 non-null   object\n",
      " 10  Tweet Bersih       2000 non-null   object\n",
      "dtypes: int64(1), object(10)\n",
      "memory usage: 187.5+ KB\n"
     ]
    }
   ],
   "source": [
    "BANYAK_SAMPLE_DATA = 2194\n",
    "sample = data.sample(n=BANYAK_SAMPLE_DATA, random_state=2020)\n",
    "sample.info()"
   ]
  },
  {
   "cell_type": "code",
   "execution_count": 5,
   "id": "3bc93efb",
   "metadata": {},
   "outputs": [],
   "source": [
    "sample.to_csv('Sample Tweet 2.csv')"
   ]
  },
  {
   "cell_type": "code",
   "execution_count": null,
   "id": "1323a270",
   "metadata": {},
   "outputs": [],
   "source": []
  }
 ],
 "metadata": {
  "kernelspec": {
   "display_name": "Python 3 (ipykernel)",
   "language": "python",
   "name": "python3"
  },
  "language_info": {
   "codemirror_mode": {
    "name": "ipython",
    "version": 3
   },
   "file_extension": ".py",
   "mimetype": "text/x-python",
   "name": "python",
   "nbconvert_exporter": "python",
   "pygments_lexer": "ipython3",
   "version": "3.9.12"
  }
 },
 "nbformat": 4,
 "nbformat_minor": 5
}
